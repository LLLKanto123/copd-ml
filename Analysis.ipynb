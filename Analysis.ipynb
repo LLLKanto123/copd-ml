{
 "cells": [
  {
   "cell_type": "code",
   "execution_count": 16,
   "metadata": {},
   "outputs": [
    {
     "data": {
      "text/plain": [
       "(633, 17)"
      ]
     },
     "execution_count": 16,
     "metadata": {},
     "output_type": "execute_result"
    }
   ],
   "source": [
    "import pandas as pd\n",
    "import matplotlib.pyplot as plt\n",
    "\n",
    "data_df = pd.read_csv(\"finalalldata.csv\")\n",
    "\n",
    "data_df.shape"
   ]
  },
  {
   "cell_type": "code",
   "execution_count": 4,
   "metadata": {},
   "outputs": [
    {
     "data": {
      "text/html": [
       "<div>\n",
       "<style scoped>\n",
       "    .dataframe tbody tr th:only-of-type {\n",
       "        vertical-align: middle;\n",
       "    }\n",
       "\n",
       "    .dataframe tbody tr th {\n",
       "        vertical-align: top;\n",
       "    }\n",
       "\n",
       "    .dataframe thead th {\n",
       "        text-align: right;\n",
       "    }\n",
       "</style>\n",
       "<table border=\"1\" class=\"dataframe\">\n",
       "  <thead>\n",
       "    <tr style=\"text-align: right;\">\n",
       "      <th></th>\n",
       "      <th>label</th>\n",
       "      <th>sex</th>\n",
       "      <th>age</th>\n",
       "      <th>bmi</th>\n",
       "      <th>smoke</th>\n",
       "      <th>location</th>\n",
       "      <th>rs10007052</th>\n",
       "      <th>rs8192288</th>\n",
       "      <th>rs20541</th>\n",
       "      <th>rs12922394</th>\n",
       "      <th>rs2910164</th>\n",
       "      <th>rs161976</th>\n",
       "      <th>rs473892</th>\n",
       "      <th>rs159497</th>\n",
       "      <th>rs9296092</th>\n",
       "    </tr>\n",
       "  </thead>\n",
       "  <tbody>\n",
       "    <tr>\n",
       "      <td>count</td>\n",
       "      <td>633.000000</td>\n",
       "      <td>633.000000</td>\n",
       "      <td>633.000000</td>\n",
       "      <td>633.000000</td>\n",
       "      <td>633.000000</td>\n",
       "      <td>633.000000</td>\n",
       "      <td>624.000000</td>\n",
       "      <td>628.000000</td>\n",
       "      <td>629.000000</td>\n",
       "      <td>628.000000</td>\n",
       "      <td>629.000000</td>\n",
       "      <td>598.000000</td>\n",
       "      <td>633.000000</td>\n",
       "      <td>595.000000</td>\n",
       "      <td>620.000000</td>\n",
       "    </tr>\n",
       "    <tr>\n",
       "      <td>mean</td>\n",
       "      <td>0.696682</td>\n",
       "      <td>1.271722</td>\n",
       "      <td>63.417062</td>\n",
       "      <td>23.190724</td>\n",
       "      <td>0.631912</td>\n",
       "      <td>6.617678</td>\n",
       "      <td>1.391994</td>\n",
       "      <td>0.891881</td>\n",
       "      <td>0.804953</td>\n",
       "      <td>0.859815</td>\n",
       "      <td>1.406741</td>\n",
       "      <td>1.255722</td>\n",
       "      <td>1.299271</td>\n",
       "      <td>1.337422</td>\n",
       "      <td>1.185820</td>\n",
       "    </tr>\n",
       "    <tr>\n",
       "      <td>std</td>\n",
       "      <td>0.460055</td>\n",
       "      <td>0.445199</td>\n",
       "      <td>15.369700</td>\n",
       "      <td>3.661055</td>\n",
       "      <td>0.482667</td>\n",
       "      <td>1.523725</td>\n",
       "      <td>0.511025</td>\n",
       "      <td>0.188801</td>\n",
       "      <td>0.199016</td>\n",
       "      <td>0.184891</td>\n",
       "      <td>0.348731</td>\n",
       "      <td>0.387540</td>\n",
       "      <td>0.336951</td>\n",
       "      <td>0.374177</td>\n",
       "      <td>0.492045</td>\n",
       "    </tr>\n",
       "    <tr>\n",
       "      <td>min</td>\n",
       "      <td>0.000000</td>\n",
       "      <td>1.000000</td>\n",
       "      <td>21.000000</td>\n",
       "      <td>14.300000</td>\n",
       "      <td>0.000000</td>\n",
       "      <td>4.630000</td>\n",
       "      <td>1.000000</td>\n",
       "      <td>0.351293</td>\n",
       "      <td>0.448632</td>\n",
       "      <td>0.423280</td>\n",
       "      <td>1.000000</td>\n",
       "      <td>1.000000</td>\n",
       "      <td>1.000000</td>\n",
       "      <td>1.000000</td>\n",
       "      <td>1.000000</td>\n",
       "    </tr>\n",
       "    <tr>\n",
       "      <td>25%</td>\n",
       "      <td>0.000000</td>\n",
       "      <td>1.000000</td>\n",
       "      <td>55.000000</td>\n",
       "      <td>20.730000</td>\n",
       "      <td>0.000000</td>\n",
       "      <td>5.310000</td>\n",
       "      <td>1.000000</td>\n",
       "      <td>0.592700</td>\n",
       "      <td>0.669800</td>\n",
       "      <td>0.650600</td>\n",
       "      <td>1.000000</td>\n",
       "      <td>1.000000</td>\n",
       "      <td>1.000000</td>\n",
       "      <td>1.000000</td>\n",
       "      <td>1.000000</td>\n",
       "    </tr>\n",
       "    <tr>\n",
       "      <td>50%</td>\n",
       "      <td>1.000000</td>\n",
       "      <td>1.000000</td>\n",
       "      <td>66.000000</td>\n",
       "      <td>23.030000</td>\n",
       "      <td>1.000000</td>\n",
       "      <td>6.880000</td>\n",
       "      <td>1.000000</td>\n",
       "      <td>1.000000</td>\n",
       "      <td>0.669800</td>\n",
       "      <td>1.000000</td>\n",
       "      <td>1.416000</td>\n",
       "      <td>1.000000</td>\n",
       "      <td>1.473000</td>\n",
       "      <td>1.445000</td>\n",
       "      <td>1.000000</td>\n",
       "    </tr>\n",
       "    <tr>\n",
       "      <td>75%</td>\n",
       "      <td>1.000000</td>\n",
       "      <td>2.000000</td>\n",
       "      <td>75.000000</td>\n",
       "      <td>25.240000</td>\n",
       "      <td>1.000000</td>\n",
       "      <td>7.780000</td>\n",
       "      <td>1.671000</td>\n",
       "      <td>1.000000</td>\n",
       "      <td>1.000000</td>\n",
       "      <td>1.000000</td>\n",
       "      <td>1.416000</td>\n",
       "      <td>1.594000</td>\n",
       "      <td>1.473000</td>\n",
       "      <td>1.445000</td>\n",
       "      <td>1.000000</td>\n",
       "    </tr>\n",
       "    <tr>\n",
       "      <td>max</td>\n",
       "      <td>1.000000</td>\n",
       "      <td>2.000000</td>\n",
       "      <td>98.000000</td>\n",
       "      <td>43.560000</td>\n",
       "      <td>1.000000</td>\n",
       "      <td>8.720000</td>\n",
       "      <td>2.792241</td>\n",
       "      <td>1.000000</td>\n",
       "      <td>1.000000</td>\n",
       "      <td>1.000000</td>\n",
       "      <td>2.005056</td>\n",
       "      <td>2.540836</td>\n",
       "      <td>2.169729</td>\n",
       "      <td>2.088025</td>\n",
       "      <td>3.356224</td>\n",
       "    </tr>\n",
       "  </tbody>\n",
       "</table>\n",
       "</div>"
      ],
      "text/plain": [
       "            label         sex         age         bmi       smoke    location  \\\n",
       "count  633.000000  633.000000  633.000000  633.000000  633.000000  633.000000   \n",
       "mean     0.696682    1.271722   63.417062   23.190724    0.631912    6.617678   \n",
       "std      0.460055    0.445199   15.369700    3.661055    0.482667    1.523725   \n",
       "min      0.000000    1.000000   21.000000   14.300000    0.000000    4.630000   \n",
       "25%      0.000000    1.000000   55.000000   20.730000    0.000000    5.310000   \n",
       "50%      1.000000    1.000000   66.000000   23.030000    1.000000    6.880000   \n",
       "75%      1.000000    2.000000   75.000000   25.240000    1.000000    7.780000   \n",
       "max      1.000000    2.000000   98.000000   43.560000    1.000000    8.720000   \n",
       "\n",
       "       rs10007052   rs8192288     rs20541  rs12922394   rs2910164    rs161976  \\\n",
       "count  624.000000  628.000000  629.000000  628.000000  629.000000  598.000000   \n",
       "mean     1.391994    0.891881    0.804953    0.859815    1.406741    1.255722   \n",
       "std      0.511025    0.188801    0.199016    0.184891    0.348731    0.387540   \n",
       "min      1.000000    0.351293    0.448632    0.423280    1.000000    1.000000   \n",
       "25%      1.000000    0.592700    0.669800    0.650600    1.000000    1.000000   \n",
       "50%      1.000000    1.000000    0.669800    1.000000    1.416000    1.000000   \n",
       "75%      1.671000    1.000000    1.000000    1.000000    1.416000    1.594000   \n",
       "max      2.792241    1.000000    1.000000    1.000000    2.005056    2.540836   \n",
       "\n",
       "         rs473892    rs159497   rs9296092  \n",
       "count  633.000000  595.000000  620.000000  \n",
       "mean     1.299271    1.337422    1.185820  \n",
       "std      0.336951    0.374177    0.492045  \n",
       "min      1.000000    1.000000    1.000000  \n",
       "25%      1.000000    1.000000    1.000000  \n",
       "50%      1.473000    1.445000    1.000000  \n",
       "75%      1.473000    1.445000    1.000000  \n",
       "max      2.169729    2.088025    3.356224  "
      ]
     },
     "execution_count": 4,
     "metadata": {},
     "output_type": "execute_result"
    }
   ],
   "source": [
    "data_df.describe()"
   ]
  },
  {
   "cell_type": "code",
   "execution_count": 5,
   "metadata": {},
   "outputs": [
    {
     "data": {
      "text/plain": [
       "Index(['uid', 'label', 'sex', 'age', 'bmi', 'smoke', 'location', 'rs10007052',\n",
       "       'rs8192288', 'rs20541', 'rs12922394', 'rs2910164', 'rs161976',\n",
       "       'rs473892', 'rs159497', 'rs9296092', 'class'],\n",
       "      dtype='object')"
      ]
     },
     "execution_count": 5,
     "metadata": {},
     "output_type": "execute_result"
    }
   ],
   "source": [
    "data_df.columns"
   ]
  },
  {
   "cell_type": "code",
   "execution_count": 34,
   "metadata": {},
   "outputs": [
    {
     "data": {
      "image/png": "[encoded data removed]",
      "text/plain": [
       "<Figure size 720x432 with 1 Axes>"
      ]
     },
     "metadata": {
      "needs_background": "light"
     },
     "output_type": "display_data"
    }
   ],
   "source": [
    "data_df.groupby(['label']).mean()[['sex', 'age', 'bmi', 'smoke']].transpose().plot.barh(figsize=(10,6), fontsize=12);"
   ]
  },
  {
   "cell_type": "code",
   "execution_count": null,
   "metadata": {},
   "outputs": [],
   "source": []
  }
 ],
 "metadata": {
  "kernelspec": {
   "display_name": "Python 3",
   "language": "python",
   "name": "python3"
  },
  "language_info": {
   "codemirror_mode": {
    "name": "ipython",
    "version": 3
   },
   "file_extension": ".py",
   "mimetype": "text/x-python",
   "name": "python",
   "nbconvert_exporter": "python",
   "pygments_lexer": "ipython3",
   "version": "3.7.4"
  }
 },
 "nbformat": 4,
 "nbformat_minor": 2
}
