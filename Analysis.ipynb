{
 "cells": [
  {
   "cell_type": "code",
   "execution_count": 16,
   "metadata": {},
   "outputs": [
    {
     "data": {
      "text/plain": [
       "(633, 17)"
      ]
     },
     "execution_count": 16,
     "metadata": {},
     "output_type": "execute_result"
    }
   ],
   "source": [
    "import pandas as pd\n",
    "import matplotlib.pyplot as plt\n",
    "\n",
    "data_df = pd.read_csv(\"finalalldata.csv\")\n",
    "\n",
    "data_df.shape"
   ]
  },
  {
   "cell_type": "code",
   "execution_count": 4,
   "metadata": {},
   "outputs": [
    {
     "data": {
      "text/html": [
       "<div>\n",
       "<style scoped>\n",
       "    .dataframe tbody tr th:only-of-type {\n",
       "        vertical-align: middle;\n",
       "    }\n",
       "\n",
       "    .dataframe tbody tr th {\n",
       "        vertical-align: top;\n",
       "    }\n",
       "\n",
       "    .dataframe thead th {\n",
       "        text-align: right;\n",
       "    }\n",
       "</style>\n",
       "<table border=\"1\" class=\"dataframe\">\n",
       "  <thead>\n",
       "    <tr style=\"text-align: right;\">\n",
       "      <th></th>\n",
       "      <th>label</th>\n",
       "      <th>sex</th>\n",
       "      <th>age</th>\n",
       "      <th>bmi</th>\n",
       "      <th>smoke</th>\n",
       "      <th>location</th>\n",
       "      <th>rs10007052</th>\n",
       "      <th>rs8192288</th>\n",
       "      <th>rs20541</th>\n",
       "      <th>rs12922394</th>\n",
       "      <th>rs2910164</th>\n",
       "      <th>rs161976</th>\n",
       "      <th>rs473892</th>\n",
       "      <th>rs159497</th>\n",
       "      <th>rs9296092</th>\n",
       "    </tr>\n",
       "  </thead>\n",
       "  <tbody>\n",
       "    <tr>\n",
       "      <td>count</td>\n",
       "      <td>633.000000</td>\n",
       "      <td>633.000000</td>\n",
       "      <td>633.000000</td>\n",
       "      <td>633.000000</td>\n",
       "      <td>633.000000</td>\n",
       "      <td>633.000000</td>\n",
       "      <td>624.000000</td>\n",
       "      <td>628.000000</td>\n",
       "      <td>629.000000</td>\n",
       "      <td>628.000000</td>\n",
       "      <td>629.000000</td>\n",
       "      <td>598.000000</td>\n",
       "      <td>633.000000</td>\n",
       "      <td>595.000000</td>\n",
       "      <td>620.000000</td>\n",
       "    </tr>\n",
       "    <tr>\n",
       "      <td>mean</td>\n",
       "      <td>0.696682</td>\n",
       "      <td>1.271722</td>\n",
       "      <td>63.417062</td>\n",
       "      <td>23.190724</td>\n",
       "      <td>0.631912</td>\n",
       "      <td>6.617678</td>\n",
       "      <td>1.391994</td>\n",
       "      <td>0.891881</td>\n",
       "      <td>0.804953</td>\n",
       "      <td>0.859815</td>\n",
       "      <td>1.406741</td>\n",
       "      <td>1.255722</td>\n",
       "      <td>1.299271</td>\n",
       "      <td>1.337422</td>\n",
       "      <td>1.185820</td>\n",
       "    </tr>\n",
       "    <tr>\n",
       "      <td>std</td>\n",
       "      <td>0.460055</td>\n",
       "      <td>0.445199</td>\n",
       "      <td>15.369700</td>\n",
       "      <td>3.661055</td>\n",
       "      <td>0.482667</td>\n",
       "      <td>1.523725</td>\n",
       "      <td>0.511025</td>\n",
       "      <td>0.188801</td>\n",
       "      <td>0.199016</td>\n",
       "      <td>0.184891</td>\n",
       "      <td>0.348731</td>\n",
       "      <td>0.387540</td>\n",
       "      <td>0.336951</td>\n",
       "      <td>0.374177</td>\n",
       "      <td>0.492045</td>\n",
       "    </tr>\n",
       "    <tr>\n",
       "      <td>min</td>\n",
       "      <td>0.000000</td>\n",
       "      <td>1.000000</td>\n",
       "      <td>21.000000</td>\n",
       "      <td>14.300000</td>\n",
       "      <td>0.000000</td>\n",
       "      <td>4.630000</td>\n",
       "      <td>1.000000</td>\n",
       "      <td>0.351293</td>\n",
       "      <td>0.448632</td>\n",
       "      <td>0.423280</td>\n",
       "      <td>1.000000</td>\n",
       "      <td>1.000000</td>\n",
       "      <td>1.000000</td>\n",
       "      <td>1.000000</td>\n",
       "      <td>1.000000</td>\n",
       "    </tr>\n",
       "    <tr>\n",
       "      <td>25%</td>\n",
       "      <td>0.000000</td>\n",
       "      <td>1.000000</td>\n",
       "      <td>55.000000</td>\n",
       "      <td>20.730000</td>\n",
       "      <td>0.000000</td>\n",
       "      <td>5.310000</td>\n",
       "      <td>1.000000</td>\n",
       "      <td>0.592700</td>\n",
       "      <td>0.669800</td>\n",
       "      <td>0.650600</td>\n",
       "      <td>1.000000</td>\n",
       "      <td>1.000000</td>\n",
       "      <td>1.000000</td>\n",
       "      <td>1.000000</td>\n",
       "      <td>1.000000</td>\n",
       "    </tr>\n",
       "    <tr>\n",
       "      <td>50%</td>\n",
       "      <td>1.000000</td>\n",
       "      <td>1.000000</td>\n",
       "      <td>66.000000</td>\n",
       "      <td>23.030000</td>\n",
       "      <td>1.000000</td>\n",
       "      <td>6.880000</td>\n",
       "      <td>1.000000</td>\n",
       "      <td>1.000000</td>\n",
       "      <td>0.669800</td>\n",
       "      <td>1.000000</td>\n",
       "      <td>1.416000</td>\n",
       "      <td>1.000000</td>\n",
       "      <td>1.473000</td>\n",
       "      <td>1.445000</td>\n",
       "      <td>1.000000</td>\n",
       "    </tr>\n",
       "    <tr>\n",
       "      <td>75%</td>\n",
       "      <td>1.000000</td>\n",
       "      <td>2.000000</td>\n",
       "      <td>75.000000</td>\n",
       "      <td>25.240000</td>\n",
       "      <td>1.000000</td>\n",
       "      <td>7.780000</td>\n",
       "      <td>1.671000</td>\n",
       "      <td>1.000000</td>\n",
       "      <td>1.000000</td>\n",
       "      <td>1.000000</td>\n",
       "      <td>1.416000</td>\n",
       "      <td>1.594000</td>\n",
       "      <td>1.473000</td>\n",
       "      <td>1.445000</td>\n",
       "      <td>1.000000</td>\n",
       "    </tr>\n",
       "    <tr>\n",
       "      <td>max</td>\n",
       "      <td>1.000000</td>\n",
       "      <td>2.000000</td>\n",
       "      <td>98.000000</td>\n",
       "      <td>43.560000</td>\n",
       "      <td>1.000000</td>\n",
       "      <td>8.720000</td>\n",
       "      <td>2.792241</td>\n",
       "      <td>1.000000</td>\n",
       "      <td>1.000000</td>\n",
       "      <td>1.000000</td>\n",
       "      <td>2.005056</td>\n",
       "      <td>2.540836</td>\n",
       "      <td>2.169729</td>\n",
       "      <td>2.088025</td>\n",
       "      <td>3.356224</td>\n",
       "    </tr>\n",
       "  </tbody>\n",
       "</table>\n",
       "</div>"
      ],
      "text/plain": [
       "            label         sex         age         bmi       smoke    location  \\\n",
       "count  633.000000  633.000000  633.000000  633.000000  633.000000  633.000000   \n",
       "mean     0.696682    1.271722   63.417062   23.190724    0.631912    6.617678   \n",
       "std      0.460055    0.445199   15.369700    3.661055    0.482667    1.523725   \n",
       "min      0.000000    1.000000   21.000000   14.300000    0.000000    4.630000   \n",
       "25%      0.000000    1.000000   55.000000   20.730000    0.000000    5.310000   \n",
       "50%      1.000000    1.000000   66.000000   23.030000    1.000000    6.880000   \n",
       "75%      1.000000    2.000000   75.000000   25.240000    1.000000    7.780000   \n",
       "max      1.000000    2.000000   98.000000   43.560000    1.000000    8.720000   \n",
       "\n",
       "       rs10007052   rs8192288     rs20541  rs12922394   rs2910164    rs161976  \\\n",
       "count  624.000000  628.000000  629.000000  628.000000  629.000000  598.000000   \n",
       "mean     1.391994    0.891881    0.804953    0.859815    1.406741    1.255722   \n",
       "std      0.511025    0.188801    0.199016    0.184891    0.348731    0.387540   \n",
       "min      1.000000    0.351293    0.448632    0.423280    1.000000    1.000000   \n",
       "25%      1.000000    0.592700    0.669800    0.650600    1.000000    1.000000   \n",
       "50%      1.000000    1.000000    0.669800    1.000000    1.416000    1.000000   \n",
       "75%      1.671000    1.000000    1.000000    1.000000    1.416000    1.594000   \n",
       "max      2.792241    1.000000    1.000000    1.000000    2.005056    2.540836   \n",
       "\n",
       "         rs473892    rs159497   rs9296092  \n",
       "count  633.000000  595.000000  620.000000  \n",
       "mean     1.299271    1.337422    1.185820  \n",
       "std      0.336951    0.374177    0.492045  \n",
       "min      1.000000    1.000000    1.000000  \n",
       "25%      1.000000    1.000000    1.000000  \n",
       "50%      1.473000    1.445000    1.000000  \n",
       "75%      1.473000    1.445000    1.000000  \n",
       "max      2.169729    2.088025    3.356224  "
      ]
     },
     "execution_count": 4,
     "metadata": {},
     "output_type": "execute_result"
    }
   ],
   "source": [
    "data_df.describe()"
   ]
  },
  {
   "cell_type": "code",
   "execution_count": 5,
   "metadata": {},
   "outputs": [
    {
     "data": {
      "text/plain": [
       "Index(['uid', 'label', 'sex', 'age', 'bmi', 'smoke', 'location', 'rs10007052',\n",
       "       'rs8192288', 'rs20541', 'rs12922394', 'rs2910164', 'rs161976',\n",
       "       'rs473892', 'rs159497', 'rs9296092', 'class'],\n",
       "      dtype='object')"
      ]
     },
     "execution_count": 5,
     "metadata": {},
     "output_type": "execute_result"
    }
   ],
   "source": [
    "data_df.columns"
   ]
  },
  {
   "cell_type": "code",
   "execution_count": 34,
   "metadata": {},
   "outputs": [
    {
     "data": {
      "image/png": "[encoded data removed]",
      "text/plain": [
       "<Figure size 720x432 with 1 Axes>"
      ]
     },
     "metadata": {
      "needs_background": "light"
     },
     "output_type": "display_data"
    }
   ],
   "source": [
    "data_df.groupby(['label']).mean()[['sex', 'age', 'bmi', 'smoke']].transpose().plot.barh(figsize=(10,6), fontsize=12);"
   ]
  },
  {
   "cell_type": "code",
   "execution_count": 40,
   "metadata": {},
   "outputs": [
    {
     "data": {
      "text/plain": [
       "1    441\n",
       "0    192\n",
       "Name: label, dtype: int64"
      ]
     },
     "execution_count": 40,
     "metadata": {},
     "output_type": "execute_result"
    }
   ],
   "source": [
    "data_df['label'].value_counts()"
   ]
  },
  {
   "cell_type": "code",
   "execution_count": null,
   "metadata": {},
   "outputs": [],
   "source": []
  },
  {
   "cell_type": "markdown",
   "metadata": {},
   "source": [
    "# Model Training\n",
    "\n",
    "First we split the data into train and test, then impute the missing values."
   ]
  },
  {
   "cell_type": "code",
   "execution_count": 44,
   "metadata": {},
   "outputs": [],
   "source": [
    "from sklearn.utils import shuffle\n",
    "\n",
    "train_df = data_df[data_df['class'] == 'train']\n",
    "test_df = data_df[data_df['class'] == 'validate']\n",
    "\n",
    "train_df = shuffle(train_df,random_state = 42)\n",
    "test_df = shuffle(test_df,random_state = 42)"
   ]
  },
  {
   "cell_type": "code",
   "execution_count": 46,
   "metadata": {},
   "outputs": [],
   "source": [
    "from sklearn.svm import LinearSVC,SVC\n",
    "from sklearn.neighbors import KNeighborsClassifier\n",
    "from sklearn.svm import LinearSVC\n",
    "from sklearn.linear_model import LogisticRegression\n",
    "from sklearn.tree import DecisionTreeClassifier\n",
    "from sklearn.neural_network import MLPClassifier\n",
    "import xgboost as xgb\n",
    "from xgboost.sklearn import XGBClassifier \n",
    "\n",
    "# Define classifiers with default parameters\n",
    "\n",
    "knn = KNeighborsClassifier()\n",
    "svm = SVC(probability=True,random_state=42)\n",
    "lr = LogisticRegression(random_state=42,penalty='l1',C=10,max_iter=50,intercept_scaling=10)\n",
    "tree = DecisionTreeClassifier()\n",
    "nn = MLPClassifier(hidden_layer_sizes=(4,4,4),random_state = 42)\n",
    "xgboost = xgb.XGBClassifier(scale_pos_weight=pos_weight,random_state=42,learning_rate=0.05,n_estimators=5000,max_depth = 500,reg_alpha=0.25,subsample=1,eval_metric=\"auc\")\n",
    "\n",
    "classifier_lst = [knn, lr, svm, tree, nn,xgboost]\n",
    "classifier_lst_name = ['KNN', 'LR', 'SVM', 'DT', 'MLP','XGboost']"
   ]
  },
  {
   "cell_type": "code",
   "execution_count": 68,
   "metadata": {},
   "outputs": [],
   "source": [
    "def fillna_data(data):\n",
    "    for col in range(2,len(data.columns)-1):\n",
    "        data[data.columns[col]].fillna(data[data.columns[col]].mean(),inplace = True)\n",
    "    return data"
   ]
  },
  {
   "cell_type": "code",
   "execution_count": 62,
   "metadata": {},
   "outputs": [],
   "source": [
    "def load_data(data):\n",
    "    \n",
    "    \"\"\"\n",
    "    Clean data, then extract the features and target from a dataframe\n",
    "    \"\"\"\n",
    "    data = fillna_data(data)\n",
    "    feature = data[['sex', 'age',\"smoke\", 'bmi', 'location', 'rs10007052', 'rs8192288', 'rs20541', 'rs12922394', 'rs2910164', 'rs161976', 'rs473892', 'rs159497', 'rs9296092']]\n",
    "    target =  data['label']\n",
    "    \n",
    "    return feature,target"
   ]
  },
  {
   "cell_type": "code",
   "execution_count": 66,
   "metadata": {},
   "outputs": [],
   "source": [
    "from sklearn.metrics import confusion_matrix,matthews_corrcoef,accuracy_score,\\\n",
    "                            f1_score,recall_score,precision_score,roc_auc_score,roc_curve,auc\n",
    "\n",
    "def make_baseline(train_df, test_df ,classifier):\n",
    "    \n",
    "    \"\"\"\n",
    "    Collect the performance of a classifier using various measures\n",
    "    \"\"\"\n",
    "    \n",
    "    X_train,y_train = load_data(train_df)\n",
    "    X_test,y_test = load_data(test_df)\n",
    "    \n",
    "    classifier.fit(X_train,y_train)\n",
    "    pred_proba = classifier.predict_proba(X_test)\n",
    "    pred = classifier.predict(X_test)\n",
    "    \n",
    "    acc = accuracy_score(y_test,pred)\n",
    "    precisions = precision_score(y_test,pred)\n",
    "    recalls = recall_score(y_test,pred)\n",
    "    f1s = f1_score(y_test,pred)\n",
    "    mcc = matthews_corrcoef(y_test,pred)\n",
    "    \n",
    "    aucs1 = roc_auc_score(y_test,pred)\n",
    "    fpr, tpr, thresholds = roc_curve(y_test, pred_proba[:, 1])\n",
    "    aucs = auc(fpr, tpr)\n",
    "\n",
    "    return acc, precisions, recalls, f1s, aucs, mcc"
   ]
  },
  {
   "cell_type": "code",
   "execution_count": 71,
   "metadata": {},
   "outputs": [
    {
     "name": "stderr",
     "output_type": "stream",
     "text": [
      "/Users/kevinsiswandi/opt/anaconda3/lib/python3.7/site-packages/sklearn/linear_model/logistic.py:432: FutureWarning: Default solver will be changed to 'lbfgs' in 0.22. Specify a solver to silence this warning.\n",
      "  FutureWarning)\n",
      "/Users/kevinsiswandi/opt/anaconda3/lib/python3.7/site-packages/sklearn/svm/base.py:193: FutureWarning: The default value of gamma will change from 'auto' to 'scale' in version 0.22 to account better for unscaled features. Set gamma explicitly to 'auto' or 'scale' to avoid this warning.\n",
      "  \"avoid this warning.\", FutureWarning)\n",
      "/Users/kevinsiswandi/opt/anaconda3/lib/python3.7/site-packages/sklearn/neural_network/multilayer_perceptron.py:566: ConvergenceWarning: Stochastic Optimizer: Maximum iterations (200) reached and the optimization hasn't converged yet.\n",
      "  % self.max_iter, ConvergenceWarning)\n"
     ]
    },
    {
     "name": "stdout",
     "output_type": "stream",
     "text": [
      "         accuracy  precision    recall   f1score  mcc_score  aucscore\n",
      "KNN      0.812500   0.815476  0.907285  0.858934   0.589184  0.808319\n",
      "LR       0.808333   0.796610  0.933775  0.859756   0.581049  0.823722\n",
      "SVM      0.783333   0.770492  0.933775  0.844311   0.524246  0.776323\n",
      "DT       0.770833   0.758065  0.933775  0.836795   0.495260  0.714078\n",
      "MLP      0.770833   0.733010  1.000000  0.845938   0.529175  0.787931\n",
      "XGboost  0.795833   0.768421  0.966887  0.856305   0.561990  0.852370\n"
     ]
    }
   ],
   "source": [
    "# train models\n",
    "\n",
    "precisions_mean_lst =[]\n",
    "recalls_mean_lst =[]\n",
    "f1s_mean_lst,auc_mean_lst,acc_mean_lst = [],[],[]\n",
    "mcc_mean_lst =[]\n",
    "\n",
    "for i in classifier_lst:\n",
    "    acc, precisions, recalls, f1s, aucs, mcc = make_baseline(train_df, test_df, i)\n",
    "    \n",
    "    acc_mean_lst.append(acc)\n",
    "    precisions_mean_lst.append(precisions)\n",
    "    recalls_mean_lst.append(recalls)\n",
    "    f1s_mean_lst.append(f1s)\n",
    "    auc_mean_lst.append(aucs)\n",
    "    \n",
    "    mcc_mean_lst.append(mcc)\n",
    "\n",
    "all_para = {\"accuracy\":acc_mean_lst,\"precision\":precisions_mean_lst,\n",
    "            \"recall\":recalls_mean_lst,\"f1score\":f1s_mean_lst,\n",
    "            \"mcc_score\":mcc_mean_lst,\"aucscore\":auc_mean_lst}\n",
    "result = pd.DataFrame(all_para,index = ['KNN', 'LR', 'SVM', 'DT', 'MLP','XGboost'])\n",
    "print(result)"
   ]
  },
  {
   "cell_type": "code",
   "execution_count": 74,
   "metadata": {},
   "outputs": [],
   "source": [
    "from scipy import interp\n",
    "import numpy as np\n",
    "import warnings\n",
    "warnings.filterwarnings(\"ignore\")\n",
    "\n",
    "def plot_ROC(model,model_name,color):\n",
    "    \n",
    "    tprs = []\n",
    "    aucs = []\n",
    "    mean_fpr = np.linspace(0, 1, 100)\n",
    "    probas_ = model.fit(X, y).predict_proba(X_test)\n",
    "    fpr, tpr, thresholds = roc_curve(y_test, probas_[:, 1])\n",
    "    tprs.append(interp(mean_fpr, fpr, tpr))\n",
    "    roc_auc = auc(fpr, tpr)\n",
    "    aucs.append(roc_auc)\n",
    "    mean_tpr = np.mean(tprs, axis=0)\n",
    "    mean_auc = auc(mean_fpr, mean_tpr)\n",
    "    plt.plot(mean_fpr, mean_tpr, color=color,\n",
    "             label=r'{} ROC validate (AUC = %0.2f)'.format(model_name) % (mean_auc),\n",
    "             lw=2, alpha=.8)\n"
   ]
  },
  {
   "cell_type": "code",
   "execution_count": 76,
   "metadata": {},
   "outputs": [
    {
     "data": {
      "image/png": "[encoded data removed]",
      "text/plain": [
       "<Figure size 720x432 with 1 Axes>"
      ]
     },
     "metadata": {
      "needs_background": "light"
     },
     "output_type": "display_data"
    }
   ],
   "source": [
    "feature,target = load_data(train_df)\n",
    "X ,y = np.array(feature),np.array(target)\n",
    "\n",
    "X_test, y_test = load_data(test_df)\n",
    "X_test, y_test = np.array(X_test),np.array(y_test)\n",
    "\n",
    "color_list = ['b','g','r','c','m','y']\n",
    "fig=plt.gcf()\n",
    "fig.set_size_inches(10,6)\n",
    "for model,model_name,color in zip(classifier_lst,classifier_lst_name,color_list):\n",
    "    plot_ROC(model,model_name,color)\n",
    "    \n",
    "plt.plot([0, 1], [0, 1], linestyle='--', lw=2, color=(0.6, 0.6, 0.6),label='Chance', alpha=.8)\n",
    "plt.xlim([-0.0, 1.0])\n",
    "plt.ylim([-0.0, 1.0])\n",
    "plt.xlabel('False Positive Rate')\n",
    "plt.ylabel('True Positive Rate')\n",
    "plt.title('ROC Curve')\n",
    "plt.legend(loc=\"lower right\")\n",
    "fig.show()"
   ]
  },
  {
   "cell_type": "code",
   "execution_count": null,
   "metadata": {},
   "outputs": [],
   "source": []
  }
 ],
 "metadata": {
  "kernelspec": {
   "display_name": "Python 3",
   "language": "python",
   "name": "python3"
  },
  "language_info": {
   "codemirror_mode": {
    "name": "ipython",
    "version": 3
   },
   "file_extension": ".py",
   "mimetype": "text/x-python",
   "name": "python",
   "nbconvert_exporter": "python",
   "pygments_lexer": "ipython3",
   "version": "3.7.4"
  }
 },
 "nbformat": 4,
 "nbformat_minor": 2
}
